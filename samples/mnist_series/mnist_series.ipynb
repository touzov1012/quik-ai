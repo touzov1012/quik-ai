{
 "cells": [
  {
   "cell_type": "code",
   "execution_count": 1,
   "id": "59ce8e62-95cd-4b35-8aa9-d411ded65d82",
   "metadata": {},
   "outputs": [
    {
     "name": "stdout",
     "output_type": "stream",
     "text": [
      "Quik-AI Version: 1.3.1\n"
     ]
    }
   ],
   "source": [
    "# import sys\n",
    "# sys.path.insert(0, '../../src')\n",
    "\n",
    "import quik_ai as qa\n",
    "import numpy as np\n",
    "import pandas as pd\n",
    "import matplotlib.pyplot as plt\n",
    "\n",
    "import keras\n",
    "\n",
    "from importlib.metadata import version \n",
    "print('Quik-AI Version: %s' % version('quik_ai'))"
   ]
  },
  {
   "cell_type": "code",
   "execution_count": 2,
   "id": "ba15400a-0930-45b3-809e-c4f1ad6b6882",
   "metadata": {},
   "outputs": [
    {
     "data": {
      "image/png": "[encoded data removed]",
      "text/plain": [
       "<Figure size 800x500 with 18 Axes>"
      ]
     },
     "metadata": {},
     "output_type": "display_data"
    }
   ],
   "source": [
    "# fetch the data\n",
    "(x_train, y_train), _ = keras.datasets.mnist.load_data()\n",
    "\n",
    "# make a dataframe\n",
    "data = pd.DataFrame({\n",
    "    'X' : list(x_train)[:50],\n",
    "    'y' : y_train[:50]\n",
    "})\n",
    "\n",
    "# get a dictionary to map to all samples of digits\n",
    "grouped = data.groupby('y')['X'].apply(list)\n",
    "grouped_dict = grouped.to_dict()\n",
    "\n",
    "# create our datasets\n",
    "training_data = pd.DataFrame({\n",
    "    'y' : np.arange(4000) % 10,\n",
    "})\n",
    "training_data['X'] = training_data['y'].apply(lambda x: grouped_dict[x][np.random.randint(len(grouped_dict[x]))] / 255.0)\n",
    "\n",
    "testing_data = pd.DataFrame({\n",
    "    'y' : np.arange(600) % 10,\n",
    "})\n",
    "testing_data['X'] = testing_data['y'].apply(lambda x: grouped_dict[x][np.random.randint(len(grouped_dict[x]))] / 255.0)\n",
    "\n",
    "# plot a sample of digits\n",
    "fig, axes = plt.subplots(3, 6, figsize=(8, 5))\n",
    "\n",
    "for i, ax in enumerate(axes.flatten()):\n",
    "    # Plot the image\n",
    "    img = training_data['X'].iloc[i]\n",
    "    ax.imshow(img, vmin=0, vmax=1)\n",
    "\n",
    "    # Remove the axes\n",
    "    ax.axis('off')\n",
    "\n",
    "# Adjust the space between plots if needed\n",
    "plt.tight_layout()\n",
    "plt.show()"
   ]
  },
  {
   "cell_type": "code",
   "execution_count": 3,
   "id": "80f7bac0-9558-447d-9d23-c85fe0e23fdc",
   "metadata": {},
   "outputs": [
    {
     "name": "stdout",
     "output_type": "stream",
     "text": [
      "Trial 30 Complete [00h 00m 13s]\n",
      "val_mean_absolute_error: 0.104372538626194\n",
      "\n",
      "Best val_mean_absolute_error So Far: 0.0786079689860344\n",
      "Total elapsed time: 00h 07m 05s\n",
      "INFO:tensorflow:Oracle triggered exit\n",
      "Round 1 best score: 0.0781\n"
     ]
    }
   ],
   "source": [
    "# create the driver, this will generate the tensorflow dataset and feed data\n",
    "driver = qa.Driver(training_data, testing_data, testing_data, batch_size=64)\n",
    "\n",
    "# what does our response look like?\n",
    "head = qa.heads.Regression(event_shape=(28, 28), loss_name='mean_absolute_error')\n",
    "\n",
    "# all the predictors for the model\n",
    "predictors = [\n",
    "    qa.predictors.Image('X', height=14, mask_n=1, standardize=False),\n",
    "]\n",
    "\n",
    "# what is our model architecture? This will store\n",
    "# our model, driver, and any other information we use in training\n",
    "# testing, saving, and loading needed for this problem\n",
    "model = qa.models.ResNet('X', head, predictors, driver, time_window=10)\n",
    "\n",
    "# train the model, we can provide a hyperparameter tuner and other\n",
    "# training parameters, by default we will use a custom BOHB tuner\n",
    "model.train(tuner_params={'max_epochs' : 10})"
   ]
  },
  {
   "cell_type": "code",
   "execution_count": 4,
   "id": "be0e3801-0fa4-4302-9a79-5ed7c182f048",
   "metadata": {},
   "outputs": [
    {
     "name": "stdout",
     "output_type": "stream",
     "text": [
      "10/10 [==============================] - 0s 6ms/step - loss: 0.0781 - mean_absolute_error: 0.0781\n"
     ]
    },
    {
     "data": {
      "text/plain": [
       "{'loss': 0.07813061028718948, 'mean_absolute_error': 0.07813061028718948}"
      ]
     },
     "execution_count": 4,
     "metadata": {},
     "output_type": "execute_result"
    }
   ],
   "source": [
    "# evaluate the model on test data\n",
    "model.evaluate()"
   ]
  },
  {
   "cell_type": "code",
   "execution_count": 5,
   "id": "e336f231-d5a0-4f93-9b82-4b7dcfab0cc9",
   "metadata": {},
   "outputs": [
    {
     "name": "stderr",
     "output_type": "stream",
     "text": [
      "WARNING:absl:Function `_wrapped_model` contains input name(s) X with unsupported characters which will be renamed to x in the SavedModel.\n"
     ]
    },
    {
     "name": "stdout",
     "output_type": "stream",
     "text": [
      "INFO:tensorflow:Assets written to: ./model\\tf_model\\assets\n"
     ]
    },
    {
     "name": "stderr",
     "output_type": "stream",
     "text": [
      "INFO:tensorflow:Assets written to: ./model\\tf_model\\assets\n"
     ]
    },
    {
     "name": "stdout",
     "output_type": "stream",
     "text": [
      "10/10 [==============================] - 0s 8ms/step - loss: 0.0781 - mean_absolute_error: 0.0781\n"
     ]
    },
    {
     "data": {
      "text/plain": [
       "{'loss': 0.07813061028718948, 'mean_absolute_error': 0.07813061028718948}"
      ]
     },
     "execution_count": 5,
     "metadata": {},
     "output_type": "execute_result"
    }
   ],
   "source": [
    "# save the model to disk and reload the model\n",
    "# then test on the test data once again\n",
    "model.save()\n",
    "model = qa.HyperModel.load()\n",
    "\n",
    "# evaluate again, this should be the same score as before\n",
    "model.evaluate()"
   ]
  },
  {
   "cell_type": "code",
   "execution_count": 6,
   "id": "13bb46f7-df6c-442f-ab20-19485dd6f8c4",
   "metadata": {},
   "outputs": [
    {
     "name": "stdout",
     "output_type": "stream",
     "text": [
      "Model: \"model_1\"\n",
      "__________________________________________________________________________________________________\n",
      " Layer (type)                   Output Shape         Param #     Connected to                     \n",
      "==================================================================================================\n",
      " X (InputLayer)                 [(None, 10, 28, 28)  0           []                               \n",
      "                                ]                                                                 \n",
      "                                                                                                  \n",
      " history_dropout_1 (HistoryDrop  (None, 10, 28, 28)  0           ['X[0][0]']                      \n",
      " out)                                                                                             \n",
      "                                                                                                  \n",
      " tf.identity_3 (TFOpLambda)     (None, 10, 28, 28)   0           ['history_dropout_1[0][0]']      \n",
      "                                                                                                  \n",
      " tf.expand_dims_1 (TFOpLambda)  (None, 10, 28, 28,   0           ['tf.identity_3[0][0]']          \n",
      "                                1)                                                                \n",
      "                                                                                                  \n",
      " time_distributed_2 (TimeDistri  (None, 10, 14, 14,   0          ['tf.expand_dims_1[0][0]']       \n",
      " buted)                         1)                                                                \n",
      "                                                                                                  \n",
      " tf.split_1 (TFOpLambda)        [(None, 9, 14, 14,   0           ['time_distributed_2[0][0]']     \n",
      "                                1),                                                               \n",
      "                                 (None, 1, 14, 14,                                                \n",
      "                                1)]                                                               \n",
      "                                                                                                  \n",
      " tf.math.multiply_1 (TFOpLambda  (None, 1, 14, 14, 1  0          ['tf.split_1[0][1]']             \n",
      " )                              )                                                                 \n",
      "                                                                                                  \n",
      " tf.concat_1 (TFOpLambda)       (None, 10, 14, 14,   0           ['tf.split_1[0][0]',             \n",
      "                                1)                                'tf.math.multiply_1[0][0]']     \n",
      "                                                                                                  \n",
      " time_distributed_3 (TimeDistri  (None, 10, 2, 2, 32  2080       ['tf.concat_1[0][0]']            \n",
      " buted)                         )                                                                 \n",
      "                                                                                                  \n",
      " time_flatten_2 (TimeFlatten)   (None, 10, 128)      0           ['time_distributed_3[0][0]']     \n",
      "                                                                                                  \n",
      " tf.identity_4 (TFOpLambda)     (None, 10, 128)      0           ['time_flatten_2[0][0]']         \n",
      "                                                                                                  \n",
      " time_flatten_3 (TimeFlatten)   (None, 10, 128)      0           ['tf.identity_4[0][0]']          \n",
      "                                                                                                  \n",
      " tf.identity_5 (TFOpLambda)     (None, 10, 128)      0           ['time_flatten_3[0][0]']         \n",
      "                                                                                                  \n",
      " flatten_1 (Flatten)            (None, 1280)         0           ['tf.identity_5[0][0]']          \n",
      "                                                                                                  \n",
      " dense_2 (Dense)                (None, 128)          163968      ['flatten_1[0][0]']              \n",
      "                                                                                                  \n",
      " dense_3 (Dense)                (None, 128)          16512       ['dense_2[0][0]']                \n",
      "                                                                                                  \n",
      " dense_4 (Dense)                (None, 784)          101136      ['dense_3[0][0]']                \n",
      "                                                                                                  \n",
      " tf.reshape_1 (TFOpLambda)      (None, 28, 28)       0           ['dense_4[0][0]']                \n",
      "                                                                                                  \n",
      "==================================================================================================\n",
      "Total params: 283,696\n",
      "Trainable params: 283,696\n",
      "Non-trainable params: 0\n",
      "__________________________________________________________________________________________________\n"
     ]
    }
   ],
   "source": [
    "model.instance.summary()"
   ]
  },
  {
   "cell_type": "code",
   "execution_count": 7,
   "id": "0e881276-a0de-4302-b34c-21e658fefdf6",
   "metadata": {},
   "outputs": [
    {
     "data": {
      "image/png": "[encoded data removed]",
      "text/plain": [
       "<Figure size 800x500 with 18 Axes>"
      ]
     },
     "metadata": {},
     "output_type": "display_data"
    }
   ],
   "source": [
    "predictions = model.predict(testing_data, verbose=0)\n",
    "\n",
    "# plot a sample of digits\n",
    "fig, axes = plt.subplots(3, 6, figsize=(8, 5))\n",
    "\n",
    "for i, ax in enumerate(axes.flatten()):\n",
    "    # Plot the image\n",
    "    img = predictions[-len(axes.flatten()) + i]\n",
    "    ax.imshow(img, vmin=0, vmax=1)\n",
    "\n",
    "    # Remove the axes\n",
    "    ax.axis('off')\n",
    "\n",
    "# Adjust the space between plots if needed\n",
    "plt.tight_layout()\n",
    "plt.show()"
   ]
  }
 ],
 "metadata": {
  "kernelspec": {
   "display_name": "quik-ai",
   "language": "python",
   "name": "quik-ai"
  },
  "language_info": {
   "codemirror_mode": {
    "name": "ipython",
    "version": 3
   },
   "file_extension": ".py",
   "mimetype": "text/x-python",
   "name": "python",
   "nbconvert_exporter": "python",
   "pygments_lexer": "ipython3",
   "version": "3.10.11"
  }
 },
 "nbformat": 4,
 "nbformat_minor": 5
}
