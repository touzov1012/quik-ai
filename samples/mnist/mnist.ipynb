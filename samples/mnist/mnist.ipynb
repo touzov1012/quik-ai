{
 "cells": [
  {
   "cell_type": "code",
   "execution_count": 1,
   "id": "59ce8e62-95cd-4b35-8aa9-d411ded65d82",
   "metadata": {},
   "outputs": [
    {
     "name": "stdout",
     "output_type": "stream",
     "text": [
      "Quik-AI Version: 1.3.1\n"
     ]
    }
   ],
   "source": [
    "# import sys\n",
    "# sys.path.insert(0, '../../src')\n",
    "\n",
    "import quik_ai as qa\n",
    "import numpy as np\n",
    "import pandas as pd\n",
    "import matplotlib.pyplot as plt\n",
    "\n",
    "import keras\n",
    "\n",
    "from importlib.metadata import version \n",
    "print('Quik-AI Version: %s' % version('quik_ai'))"
   ]
  },
  {
   "cell_type": "code",
   "execution_count": 2,
   "id": "ba15400a-0930-45b3-809e-c4f1ad6b6882",
   "metadata": {},
   "outputs": [
    {
     "data": {
      "image/png": "[encoded data removed]",
      "text/plain": [
       "<Figure size 500x500 with 9 Axes>"
      ]
     },
     "metadata": {},
     "output_type": "display_data"
    }
   ],
   "source": [
    "# fetch the data\n",
    "(x_train, y_train), (x_test, y_test) = keras.datasets.mnist.load_data()\n",
    "\n",
    "# make the training and test sets\n",
    "training_data = pd.DataFrame({\n",
    "    'X' : list(x_train),\n",
    "    'y' : y_train\n",
    "})\n",
    "\n",
    "testing_data = pd.DataFrame({\n",
    "    'X' : list(x_test),\n",
    "    'y' : y_test\n",
    "})\n",
    "\n",
    "# plot a sample of digits\n",
    "fig, axes = plt.subplots(3, 3, figsize=(5, 5))\n",
    "\n",
    "for i, ax in enumerate(axes.flatten()):\n",
    "    # Plot the image\n",
    "    img = training_data['X'].iloc[i]\n",
    "    ax.imshow(img, vmin=0, vmax=255)\n",
    "\n",
    "    # Remove the axes\n",
    "    ax.axis('off')\n",
    "\n",
    "# Adjust the space between plots if needed\n",
    "plt.tight_layout()\n",
    "plt.show()"
   ]
  },
  {
   "cell_type": "code",
   "execution_count": 3,
   "id": "80f7bac0-9558-447d-9d23-c85fe0e23fdc",
   "metadata": {},
   "outputs": [
    {
     "name": "stdout",
     "output_type": "stream",
     "text": [
      "Trial 30 Complete [00h 00m 22s]\n",
      "val_sparse_categorical_crossentropy: 0.2683711647987366\n",
      "\n",
      "Best val_sparse_categorical_crossentropy So Far: 0.0783018171787262\n",
      "Total elapsed time: 00h 09m 47s\n",
      "INFO:tensorflow:Oracle triggered exit\n",
      "Round 1 best score: 0.0736\n"
     ]
    }
   ],
   "source": [
    "# create the driver, this will generate the tensorflow dataset and feed data\n",
    "driver = qa.Driver(training_data, testing_data, testing_data, batch_size=256)\n",
    "\n",
    "# what does our response look like?\n",
    "head = qa.heads.Logistic(event_size=len(training_data.y.unique()))\n",
    "\n",
    "# all the predictors for the model\n",
    "predictors = [\n",
    "    qa.predictors.Image('X', height=qa.tuning.HyperChoice([-1, 7, 14])),\n",
    "]\n",
    "\n",
    "# what is our model architecture? This will store\n",
    "# our model, driver, and any other information we use in training\n",
    "# testing, saving, and loading needed for this problem\n",
    "model = qa.models.ResNet('y', head, predictors, driver)\n",
    "\n",
    "# train the model, we can provide a hyperparameter tuner and other\n",
    "# training parameters, by default we will use a custom BOHB tuner\n",
    "model.train(tuner_params={'max_epochs' : 10})"
   ]
  },
  {
   "cell_type": "code",
   "execution_count": 4,
   "id": "be0e3801-0fa4-4302-9a79-5ed7c182f048",
   "metadata": {},
   "outputs": [
    {
     "name": "stdout",
     "output_type": "stream",
     "text": [
      "40/40 [==============================] - 0s 6ms/step - loss: 0.0736 - sparse_categorical_crossentropy: 0.0736 - sparse_categorical_accuracy: 0.9786\n"
     ]
    },
    {
     "data": {
      "text/plain": [
       "{'loss': 0.07362065464258194,\n",
       " 'sparse_categorical_crossentropy': 0.07362065464258194,\n",
       " 'sparse_categorical_accuracy': 0.978600025177002}"
      ]
     },
     "execution_count": 4,
     "metadata": {},
     "output_type": "execute_result"
    }
   ],
   "source": [
    "# evaluate the model on test data\n",
    "model.evaluate()"
   ]
  },
  {
   "cell_type": "code",
   "execution_count": 5,
   "id": "e336f231-d5a0-4f93-9b82-4b7dcfab0cc9",
   "metadata": {},
   "outputs": [
    {
     "name": "stderr",
     "output_type": "stream",
     "text": [
      "WARNING:absl:Function `_wrapped_model` contains input name(s) X with unsupported characters which will be renamed to x in the SavedModel.\n",
      "WARNING:absl:Found untraced functions such as layer_normalization_layer_call_fn, layer_normalization_layer_call_and_return_conditional_losses while saving (showing 2 of 2). These functions will not be directly callable after loading.\n"
     ]
    },
    {
     "name": "stdout",
     "output_type": "stream",
     "text": [
      "INFO:tensorflow:Assets written to: ./model\\tf_model\\assets\n"
     ]
    },
    {
     "name": "stderr",
     "output_type": "stream",
     "text": [
      "INFO:tensorflow:Assets written to: ./model\\tf_model\\assets\n"
     ]
    },
    {
     "name": "stdout",
     "output_type": "stream",
     "text": [
      "40/40 [==============================] - 1s 6ms/step - loss: 0.0736 - sparse_categorical_crossentropy: 0.0736 - sparse_categorical_accuracy: 0.9786\n"
     ]
    },
    {
     "data": {
      "text/plain": [
       "{'loss': 0.07362065464258194,\n",
       " 'sparse_categorical_crossentropy': 0.07362065464258194,\n",
       " 'sparse_categorical_accuracy': 0.978600025177002}"
      ]
     },
     "execution_count": 5,
     "metadata": {},
     "output_type": "execute_result"
    }
   ],
   "source": [
    "# save the model to disk and reload the model\n",
    "# then test on the test data once again\n",
    "model.save()\n",
    "model = qa.HyperModel.load()\n",
    "\n",
    "# evaluate again, this should be the same score as before\n",
    "model.evaluate()"
   ]
  },
  {
   "cell_type": "code",
   "execution_count": 6,
   "id": "13bb46f7-df6c-442f-ab20-19485dd6f8c4",
   "metadata": {},
   "outputs": [
    {
     "name": "stdout",
     "output_type": "stream",
     "text": [
      "Model: \"model_1\"\n",
      "_________________________________________________________________\n",
      " Layer (type)                Output Shape              Param #   \n",
      "=================================================================\n",
      " X (InputLayer)              [(None, 28, 28)]          0         \n",
      "                                                                 \n",
      " tf.identity_3 (TFOpLambda)  (None, 28, 28)            0         \n",
      "                                                                 \n",
      " rescaling_1 (Rescaling)     (None, 28, 28)            0         \n",
      "                                                                 \n",
      " tf.expand_dims_1 (TFOpLambd  (None, 28, 28, 1)        0         \n",
      " a)                                                              \n",
      "                                                                 \n",
      " conv2d_1 (Conv2D)           (None, 10, 10, 16)        272       \n",
      "                                                                 \n",
      " feature_flatten_1 (FeatureF  (None, 100, 16)          0         \n",
      " latten)                                                         \n",
      "                                                                 \n",
      " tf.identity_4 (TFOpLambda)  (None, 100, 16)           0         \n",
      "                                                                 \n",
      " tf.identity_5 (TFOpLambda)  (None, 100, 16)           0         \n",
      "                                                                 \n",
      " flatten_1 (Flatten)         (None, 1600)              0         \n",
      "                                                                 \n",
      " dense_2 (Dense)             (None, 256)               409856    \n",
      "                                                                 \n",
      " res_net_block (ResNetBlock)  (None, 256)              132096    \n",
      "                                                                 \n",
      " dense_3 (Dense)             (None, 10)                2570      \n",
      "                                                                 \n",
      "=================================================================\n",
      "Total params: 544,794\n",
      "Trainable params: 544,794\n",
      "Non-trainable params: 0\n",
      "_________________________________________________________________\n"
     ]
    }
   ],
   "source": [
    "model.instance.summary()"
   ]
  },
  {
   "cell_type": "code",
   "execution_count": 7,
   "id": "0e881276-a0de-4302-b34c-21e658fefdf6",
   "metadata": {},
   "outputs": [
    {
     "data": {
      "text/html": [
       "<div>\n",
       "<style scoped>\n",
       "    .dataframe tbody tr th:only-of-type {\n",
       "        vertical-align: middle;\n",
       "    }\n",
       "\n",
       "    .dataframe tbody tr th {\n",
       "        vertical-align: top;\n",
       "    }\n",
       "\n",
       "    .dataframe thead th {\n",
       "        text-align: right;\n",
       "    }\n",
       "</style>\n",
       "<table border=\"1\" class=\"dataframe\">\n",
       "  <thead>\n",
       "    <tr style=\"text-align: right;\">\n",
       "      <th></th>\n",
       "      <th>prediction</th>\n",
       "      <th>target</th>\n",
       "    </tr>\n",
       "  </thead>\n",
       "  <tbody>\n",
       "    <tr>\n",
       "      <th>0</th>\n",
       "      <td>7</td>\n",
       "      <td>7</td>\n",
       "    </tr>\n",
       "    <tr>\n",
       "      <th>1</th>\n",
       "      <td>2</td>\n",
       "      <td>2</td>\n",
       "    </tr>\n",
       "    <tr>\n",
       "      <th>2</th>\n",
       "      <td>1</td>\n",
       "      <td>1</td>\n",
       "    </tr>\n",
       "    <tr>\n",
       "      <th>3</th>\n",
       "      <td>0</td>\n",
       "      <td>0</td>\n",
       "    </tr>\n",
       "    <tr>\n",
       "      <th>4</th>\n",
       "      <td>4</td>\n",
       "      <td>4</td>\n",
       "    </tr>\n",
       "    <tr>\n",
       "      <th>...</th>\n",
       "      <td>...</td>\n",
       "      <td>...</td>\n",
       "    </tr>\n",
       "    <tr>\n",
       "      <th>9995</th>\n",
       "      <td>2</td>\n",
       "      <td>2</td>\n",
       "    </tr>\n",
       "    <tr>\n",
       "      <th>9996</th>\n",
       "      <td>3</td>\n",
       "      <td>3</td>\n",
       "    </tr>\n",
       "    <tr>\n",
       "      <th>9997</th>\n",
       "      <td>4</td>\n",
       "      <td>4</td>\n",
       "    </tr>\n",
       "    <tr>\n",
       "      <th>9998</th>\n",
       "      <td>5</td>\n",
       "      <td>5</td>\n",
       "    </tr>\n",
       "    <tr>\n",
       "      <th>9999</th>\n",
       "      <td>6</td>\n",
       "      <td>6</td>\n",
       "    </tr>\n",
       "  </tbody>\n",
       "</table>\n",
       "<p>10000 rows × 2 columns</p>\n",
       "</div>"
      ],
      "text/plain": [
       "      prediction  target\n",
       "0              7       7\n",
       "1              2       2\n",
       "2              1       1\n",
       "3              0       0\n",
       "4              4       4\n",
       "...          ...     ...\n",
       "9995           2       2\n",
       "9996           3       3\n",
       "9997           4       4\n",
       "9998           5       5\n",
       "9999           6       6\n",
       "\n",
       "[10000 rows x 2 columns]"
      ]
     },
     "execution_count": 7,
     "metadata": {},
     "output_type": "execute_result"
    }
   ],
   "source": [
    "results = pd.DataFrame({\n",
    "    'prediction' : model.predict(testing_data, verbose=0).argmax(axis=1),\n",
    "    'target' : testing_data.y,\n",
    "})\n",
    "\n",
    "results"
   ]
  }
 ],
 "metadata": {
  "kernelspec": {
   "display_name": "quik-ai",
   "language": "python",
   "name": "quik-ai"
  },
  "language_info": {
   "codemirror_mode": {
    "name": "ipython",
    "version": 3
   },
   "file_extension": ".py",
   "mimetype": "text/x-python",
   "name": "python",
   "nbconvert_exporter": "python",
   "pygments_lexer": "ipython3",
   "version": "3.10.11"
  }
 },
 "nbformat": 4,
 "nbformat_minor": 5
}
