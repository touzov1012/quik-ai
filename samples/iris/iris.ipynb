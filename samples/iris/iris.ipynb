{
 "cells": [
  {
   "cell_type": "code",
   "execution_count": 1,
   "id": "59ce8e62-95cd-4b35-8aa9-d411ded65d82",
   "metadata": {},
   "outputs": [
    {
     "name": "stdout",
     "output_type": "stream",
     "text": [
      "Quik-AI Version: 1.2.0\n"
     ]
    }
   ],
   "source": [
    "# import sys\n",
    "# sys.path.insert(0, '../../src')\n",
    "\n",
    "import quik_ai as qa\n",
    "import numpy as np\n",
    "import pandas as pd\n",
    "import matplotlib.pyplot as plt\n",
    "\n",
    "from sklearn import datasets\n",
    "\n",
    "from importlib.metadata import version \n",
    "print('Quik-AI Version: %s' % version('quik_ai'))"
   ]
  },
  {
   "cell_type": "code",
   "execution_count": 2,
   "id": "70c1eb0d-5bc5-4f4a-8dcc-307427389b68",
   "metadata": {},
   "outputs": [
    {
     "data": {
      "text/html": [
       "<div>\n",
       "<style scoped>\n",
       "    .dataframe tbody tr th:only-of-type {\n",
       "        vertical-align: middle;\n",
       "    }\n",
       "\n",
       "    .dataframe tbody tr th {\n",
       "        vertical-align: top;\n",
       "    }\n",
       "\n",
       "    .dataframe thead th {\n",
       "        text-align: right;\n",
       "    }\n",
       "</style>\n",
       "<table border=\"1\" class=\"dataframe\">\n",
       "  <thead>\n",
       "    <tr style=\"text-align: right;\">\n",
       "      <th></th>\n",
       "      <th>sepal</th>\n",
       "      <th>petal</th>\n",
       "      <th>target</th>\n",
       "    </tr>\n",
       "  </thead>\n",
       "  <tbody>\n",
       "    <tr>\n",
       "      <th>0</th>\n",
       "      <td>[5.7, 2.9]</td>\n",
       "      <td>[4.2, 1.3]</td>\n",
       "      <td>1</td>\n",
       "    </tr>\n",
       "    <tr>\n",
       "      <th>1</th>\n",
       "      <td>[5.0, 3.2]</td>\n",
       "      <td>[1.2, 0.2]</td>\n",
       "      <td>0</td>\n",
       "    </tr>\n",
       "    <tr>\n",
       "      <th>2</th>\n",
       "      <td>[7.2, 3.2]</td>\n",
       "      <td>[6.0, 1.8]</td>\n",
       "      <td>2</td>\n",
       "    </tr>\n",
       "    <tr>\n",
       "      <th>3</th>\n",
       "      <td>[4.7, 3.2]</td>\n",
       "      <td>[1.6, 0.2]</td>\n",
       "      <td>0</td>\n",
       "    </tr>\n",
       "    <tr>\n",
       "      <th>4</th>\n",
       "      <td>[7.4, 2.8]</td>\n",
       "      <td>[6.1, 1.9]</td>\n",
       "      <td>2</td>\n",
       "    </tr>\n",
       "  </tbody>\n",
       "</table>\n",
       "</div>"
      ],
      "text/plain": [
       "        sepal       petal  target\n",
       "0  [5.7, 2.9]  [4.2, 1.3]       1\n",
       "1  [5.0, 3.2]  [1.2, 0.2]       0\n",
       "2  [7.2, 3.2]  [6.0, 1.8]       2\n",
       "3  [4.7, 3.2]  [1.6, 0.2]       0\n",
       "4  [7.4, 2.8]  [6.1, 1.9]       2"
      ]
     },
     "execution_count": 2,
     "metadata": {},
     "output_type": "execute_result"
    }
   ],
   "source": [
    "iris = datasets.load_iris()\n",
    "\n",
    "# Convert all data to DataFrame\n",
    "sepal_values = iris.data[:, :2]\n",
    "petal_values = iris.data[:, 2:4]\n",
    "\n",
    "# Create new DataFrame\n",
    "data = pd.DataFrame({\n",
    "    \"sepal\": list(sepal_values),\n",
    "    \"petal\": list(petal_values),\n",
    "    \"target\": iris.target\n",
    "})\n",
    "\n",
    "data = data.sample(frac=1.0, random_state=1337).reset_index(drop=True)\n",
    "\n",
    "data.head()"
   ]
  },
  {
   "cell_type": "code",
   "execution_count": 3,
   "id": "80f7bac0-9558-447d-9d23-c85fe0e23fdc",
   "metadata": {},
   "outputs": [
    {
     "name": "stdout",
     "output_type": "stream",
     "text": [
      "Trial 30 Complete [00h 00m 05s]\n",
      "val_sparse_categorical_crossentropy: 0.3695557713508606\n",
      "\n",
      "Best val_sparse_categorical_crossentropy So Far: 0.04478077217936516\n",
      "Total elapsed time: 00h 01m 44s\n",
      "INFO:tensorflow:Oracle triggered exit\n",
      "Round 1 best score: 0.0325\n"
     ]
    }
   ],
   "source": [
    "training_data, testing_data, _ = qa.train_val_test_split(data, p=[0.8, 0.2, 0.0])\n",
    "\n",
    "# create the driver, this will generate the tensorflow dataset and feed data\n",
    "driver = qa.Driver(training_data, testing_data, testing_data, batch_size=5)\n",
    "\n",
    "# what does our response look like?\n",
    "head = qa.heads.Logistic(event_size=len(data.target.unique()))\n",
    "\n",
    "# all the predictors for the model\n",
    "predictors = [\n",
    "    qa.predictors.Numerical('sepal'),\n",
    "    qa.predictors.Numerical('petal')\n",
    "]\n",
    "\n",
    "# what is our model architecture? This will store\n",
    "# our model, driver, and any other information we use in training\n",
    "# testing, saving, and loading needed for this problem\n",
    "model = qa.models.ResNet('target', head, predictors, driver)\n",
    "\n",
    "# train the model, we can provide a hyperparameter tuner and other\n",
    "# training parameters, by default we will use a custom BOHB tuner\n",
    "model.train(tuner_params={'max_epochs' : 10})"
   ]
  },
  {
   "cell_type": "code",
   "execution_count": 4,
   "id": "be0e3801-0fa4-4302-9a79-5ed7c182f048",
   "metadata": {},
   "outputs": [
    {
     "name": "stdout",
     "output_type": "stream",
     "text": [
      "6/6 [==============================] - 0s 6ms/step - loss: 0.0325 - sparse_categorical_crossentropy: 0.0325 - sparse_categorical_accuracy: 1.0000\n"
     ]
    },
    {
     "data": {
      "text/plain": [
       "{'loss': 0.032523415982723236,\n",
       " 'sparse_categorical_crossentropy': 0.032523415982723236,\n",
       " 'sparse_categorical_accuracy': 1.0}"
      ]
     },
     "execution_count": 4,
     "metadata": {},
     "output_type": "execute_result"
    }
   ],
   "source": [
    "# evaluate the model on test data\n",
    "model.evaluate()"
   ]
  },
  {
   "cell_type": "code",
   "execution_count": 5,
   "id": "e336f231-d5a0-4f93-9b82-4b7dcfab0cc9",
   "metadata": {},
   "outputs": [
    {
     "name": "stderr",
     "output_type": "stream",
     "text": [
      "WARNING:absl:Found untraced functions such as layer_normalization_layer_call_fn, layer_normalization_layer_call_and_return_conditional_losses, layer_normalization_layer_call_fn, layer_normalization_layer_call_and_return_conditional_losses while saving (showing 4 of 4). These functions will not be directly callable after loading.\n"
     ]
    },
    {
     "name": "stdout",
     "output_type": "stream",
     "text": [
      "INFO:tensorflow:Assets written to: ./model\\tf_model\\assets\n"
     ]
    },
    {
     "name": "stderr",
     "output_type": "stream",
     "text": [
      "INFO:tensorflow:Assets written to: ./model\\tf_model\\assets\n"
     ]
    },
    {
     "name": "stdout",
     "output_type": "stream",
     "text": [
      "6/6 [==============================] - 0s 6ms/step - loss: 0.0325 - sparse_categorical_crossentropy: 0.0325 - sparse_categorical_accuracy: 1.0000\n"
     ]
    },
    {
     "data": {
      "text/plain": [
       "{'loss': 0.032523415982723236,\n",
       " 'sparse_categorical_crossentropy': 0.032523415982723236,\n",
       " 'sparse_categorical_accuracy': 1.0}"
      ]
     },
     "execution_count": 5,
     "metadata": {},
     "output_type": "execute_result"
    }
   ],
   "source": [
    "# save the model to disk and reload the model\n",
    "# then test on the test data once again\n",
    "model.save()\n",
    "model = qa.HyperModel.load()\n",
    "\n",
    "# evaluate again, this should be the same score as before\n",
    "model.evaluate()"
   ]
  },
  {
   "cell_type": "code",
   "execution_count": 6,
   "id": "13bb46f7-df6c-442f-ab20-19485dd6f8c4",
   "metadata": {},
   "outputs": [
    {
     "name": "stdout",
     "output_type": "stream",
     "text": [
      "Model: \"model_1\"\n",
      "__________________________________________________________________________________________________\n",
      " Layer (type)                   Output Shape         Param #     Connected to                     \n",
      "==================================================================================================\n",
      " sepal (InputLayer)             [(None, 2)]          0           []                               \n",
      "                                                                                                  \n",
      " petal (InputLayer)             [(None, 2)]          0           []                               \n",
      "                                                                                                  \n",
      " tf.identity_4 (TFOpLambda)     (None, 2)            0           ['sepal[0][0]']                  \n",
      "                                                                                                  \n",
      " tf.identity_6 (TFOpLambda)     (None, 2)            0           ['petal[0][0]']                  \n",
      "                                                                                                  \n",
      " tf.identity_5 (TFOpLambda)     (None, 2)            0           ['tf.identity_4[0][0]']          \n",
      "                                                                                                  \n",
      " tf.identity_7 (TFOpLambda)     (None, 2)            0           ['tf.identity_6[0][0]']          \n",
      "                                                                                                  \n",
      " flatten_2 (Flatten)            (None, 2)            0           ['tf.identity_5[0][0]']          \n",
      "                                                                                                  \n",
      " flatten_3 (Flatten)            (None, 2)            0           ['tf.identity_7[0][0]']          \n",
      "                                                                                                  \n",
      " tf.concat_1 (TFOpLambda)       (None, 4)            0           ['flatten_2[0][0]',              \n",
      "                                                                  'flatten_3[0][0]']              \n",
      "                                                                                                  \n",
      " dense_3 (Dense)                (None, 64)           320         ['tf.concat_1[0][0]']            \n",
      "                                                                                                  \n",
      " res_net_block_4 (ResNetBlock)  (None, 64)           8448        ['dense_3[0][0]']                \n",
      "                                                                                                  \n",
      " res_net_block_5 (ResNetBlock)  (None, 64)           8448        ['res_net_block_4[0][0]']        \n",
      "                                                                                                  \n",
      " dense_4 (Dense)                (None, 64)           4160        ['res_net_block_5[0][0]']        \n",
      "                                                                                                  \n",
      " dense_5 (Dense)                (None, 3)            195         ['dense_4[0][0]']                \n",
      "                                                                                                  \n",
      "==================================================================================================\n",
      "Total params: 21,571\n",
      "Trainable params: 21,571\n",
      "Non-trainable params: 0\n",
      "__________________________________________________________________________________________________\n"
     ]
    }
   ],
   "source": [
    "model.instance.summary()"
   ]
  },
  {
   "cell_type": "code",
   "execution_count": 7,
   "id": "0e881276-a0de-4302-b34c-21e658fefdf6",
   "metadata": {},
   "outputs": [
    {
     "data": {
      "text/html": [
       "<div>\n",
       "<style scoped>\n",
       "    .dataframe tbody tr th:only-of-type {\n",
       "        vertical-align: middle;\n",
       "    }\n",
       "\n",
       "    .dataframe tbody tr th {\n",
       "        vertical-align: top;\n",
       "    }\n",
       "\n",
       "    .dataframe thead th {\n",
       "        text-align: right;\n",
       "    }\n",
       "</style>\n",
       "<table border=\"1\" class=\"dataframe\">\n",
       "  <thead>\n",
       "    <tr style=\"text-align: right;\">\n",
       "      <th></th>\n",
       "      <th>prediction</th>\n",
       "      <th>target</th>\n",
       "    </tr>\n",
       "  </thead>\n",
       "  <tbody>\n",
       "    <tr>\n",
       "      <th>0</th>\n",
       "      <td>1</td>\n",
       "      <td>1</td>\n",
       "    </tr>\n",
       "    <tr>\n",
       "      <th>1</th>\n",
       "      <td>2</td>\n",
       "      <td>2</td>\n",
       "    </tr>\n",
       "    <tr>\n",
       "      <th>2</th>\n",
       "      <td>0</td>\n",
       "      <td>0</td>\n",
       "    </tr>\n",
       "    <tr>\n",
       "      <th>3</th>\n",
       "      <td>0</td>\n",
       "      <td>0</td>\n",
       "    </tr>\n",
       "    <tr>\n",
       "      <th>4</th>\n",
       "      <td>1</td>\n",
       "      <td>1</td>\n",
       "    </tr>\n",
       "    <tr>\n",
       "      <th>5</th>\n",
       "      <td>1</td>\n",
       "      <td>1</td>\n",
       "    </tr>\n",
       "    <tr>\n",
       "      <th>6</th>\n",
       "      <td>1</td>\n",
       "      <td>1</td>\n",
       "    </tr>\n",
       "    <tr>\n",
       "      <th>7</th>\n",
       "      <td>1</td>\n",
       "      <td>1</td>\n",
       "    </tr>\n",
       "    <tr>\n",
       "      <th>8</th>\n",
       "      <td>2</td>\n",
       "      <td>2</td>\n",
       "    </tr>\n",
       "    <tr>\n",
       "      <th>9</th>\n",
       "      <td>1</td>\n",
       "      <td>1</td>\n",
       "    </tr>\n",
       "    <tr>\n",
       "      <th>10</th>\n",
       "      <td>1</td>\n",
       "      <td>1</td>\n",
       "    </tr>\n",
       "    <tr>\n",
       "      <th>11</th>\n",
       "      <td>1</td>\n",
       "      <td>1</td>\n",
       "    </tr>\n",
       "    <tr>\n",
       "      <th>12</th>\n",
       "      <td>2</td>\n",
       "      <td>2</td>\n",
       "    </tr>\n",
       "    <tr>\n",
       "      <th>13</th>\n",
       "      <td>2</td>\n",
       "      <td>2</td>\n",
       "    </tr>\n",
       "    <tr>\n",
       "      <th>14</th>\n",
       "      <td>2</td>\n",
       "      <td>2</td>\n",
       "    </tr>\n",
       "    <tr>\n",
       "      <th>15</th>\n",
       "      <td>0</td>\n",
       "      <td>0</td>\n",
       "    </tr>\n",
       "    <tr>\n",
       "      <th>16</th>\n",
       "      <td>0</td>\n",
       "      <td>0</td>\n",
       "    </tr>\n",
       "    <tr>\n",
       "      <th>17</th>\n",
       "      <td>1</td>\n",
       "      <td>1</td>\n",
       "    </tr>\n",
       "    <tr>\n",
       "      <th>18</th>\n",
       "      <td>0</td>\n",
       "      <td>0</td>\n",
       "    </tr>\n",
       "    <tr>\n",
       "      <th>19</th>\n",
       "      <td>2</td>\n",
       "      <td>2</td>\n",
       "    </tr>\n",
       "    <tr>\n",
       "      <th>20</th>\n",
       "      <td>0</td>\n",
       "      <td>0</td>\n",
       "    </tr>\n",
       "    <tr>\n",
       "      <th>21</th>\n",
       "      <td>2</td>\n",
       "      <td>2</td>\n",
       "    </tr>\n",
       "    <tr>\n",
       "      <th>22</th>\n",
       "      <td>2</td>\n",
       "      <td>2</td>\n",
       "    </tr>\n",
       "    <tr>\n",
       "      <th>23</th>\n",
       "      <td>0</td>\n",
       "      <td>0</td>\n",
       "    </tr>\n",
       "    <tr>\n",
       "      <th>24</th>\n",
       "      <td>1</td>\n",
       "      <td>1</td>\n",
       "    </tr>\n",
       "    <tr>\n",
       "      <th>25</th>\n",
       "      <td>1</td>\n",
       "      <td>1</td>\n",
       "    </tr>\n",
       "    <tr>\n",
       "      <th>26</th>\n",
       "      <td>1</td>\n",
       "      <td>1</td>\n",
       "    </tr>\n",
       "    <tr>\n",
       "      <th>27</th>\n",
       "      <td>2</td>\n",
       "      <td>2</td>\n",
       "    </tr>\n",
       "    <tr>\n",
       "      <th>28</th>\n",
       "      <td>1</td>\n",
       "      <td>1</td>\n",
       "    </tr>\n",
       "    <tr>\n",
       "      <th>29</th>\n",
       "      <td>1</td>\n",
       "      <td>1</td>\n",
       "    </tr>\n",
       "  </tbody>\n",
       "</table>\n",
       "</div>"
      ],
      "text/plain": [
       "    prediction  target\n",
       "0            1       1\n",
       "1            2       2\n",
       "2            0       0\n",
       "3            0       0\n",
       "4            1       1\n",
       "5            1       1\n",
       "6            1       1\n",
       "7            1       1\n",
       "8            2       2\n",
       "9            1       1\n",
       "10           1       1\n",
       "11           1       1\n",
       "12           2       2\n",
       "13           2       2\n",
       "14           2       2\n",
       "15           0       0\n",
       "16           0       0\n",
       "17           1       1\n",
       "18           0       0\n",
       "19           2       2\n",
       "20           0       0\n",
       "21           2       2\n",
       "22           2       2\n",
       "23           0       0\n",
       "24           1       1\n",
       "25           1       1\n",
       "26           1       1\n",
       "27           2       2\n",
       "28           1       1\n",
       "29           1       1"
      ]
     },
     "execution_count": 7,
     "metadata": {},
     "output_type": "execute_result"
    }
   ],
   "source": [
    "results = pd.DataFrame({\n",
    "    'prediction' : model.predict(testing_data, verbose=0).argmax(axis=1),\n",
    "    'target' : testing_data.target,\n",
    "})\n",
    "\n",
    "results"
   ]
  }
 ],
 "metadata": {
  "kernelspec": {
   "display_name": "quik-ai",
   "language": "python",
   "name": "quik-ai"
  },
  "language_info": {
   "codemirror_mode": {
    "name": "ipython",
    "version": 3
   },
   "file_extension": ".py",
   "mimetype": "text/x-python",
   "name": "python",
   "nbconvert_exporter": "python",
   "pygments_lexer": "ipython3",
   "version": "3.10.11"
  }
 },
 "nbformat": 4,
 "nbformat_minor": 5
}
